{
 "cells": [
  {
   "cell_type": "code",
   "execution_count": 1,
   "id": "ce36e072",
   "metadata": {},
   "outputs": [],
   "source": [
    "import pandas as pd\n",
    "import numpy as np"
   ]
  },
  {
   "cell_type": "code",
   "execution_count": 2,
   "id": "39f0dbb2",
   "metadata": {},
   "outputs": [],
   "source": [
    "goal_state = [\n",
    "         [1,2,3],\n",
    "         [4,5,6],\n",
    "         [7,8,0]\n",
    "]"
   ]
  },
  {
   "cell_type": "code",
   "execution_count": 3,
   "id": "e732e54c",
   "metadata": {},
   "outputs": [],
   "source": [
    "initial_state = [\n",
    "                 [7,2,0],\n",
    "                 [1,3,5],\n",
    "                 [6,4,8]\n",
    "]\n"
   ]
  },
  {
   "cell_type": "code",
   "execution_count": 4,
   "id": "c2078444",
   "metadata": {},
   "outputs": [],
   "source": [
    "if initial_state == goal_state:\n",
    "  print (\"Goal Found\")"
   ]
  },
  {
   "cell_type": "code",
   "execution_count": 5,
   "id": "8e9270d0",
   "metadata": {},
   "outputs": [],
   "source": [
    "def find_legitimate_moves(i,j):\n",
    "  leg_moves = ['U', 'D', 'L', 'R']\n",
    "  if i == 0:\n",
    "    leg_moves.remove('U')\n",
    "  if i == 2:\n",
    "    leg_moves.remove('D')\n",
    "  if j == 0:\n",
    "    leg_moves.remove('L')\n",
    "  if j == 2:\n",
    "    leg_moves.remove('R')\n",
    "  return leg_moves"
   ]
  },
  {
   "cell_type": "code",
   "execution_count": 9,
   "id": "d8fa7042",
   "metadata": {},
   "outputs": [],
   "source": [
    "def swap_tile(state, i, j, x, y):\n",
    "    temp = state[i][j]\n",
    "    state[i][j] = state[x][y]\n",
    "    state[x][y] = temp\n",
    "    return state\n"
   ]
  },
  {
   "cell_type": "code",
   "execution_count": 10,
   "id": "adb4566e",
   "metadata": {},
   "outputs": [],
   "source": [
    "def make_move(action, i, j, state):\n",
    "  if action == 'U':\n",
    "    state = swap_tile(state, i, j, i-1, j)\n",
    "  if action == 'D':\n",
    "    state = swap_tile(state, i, j, i+1, j)\n",
    "  if action == 'L':\n",
    "    state = swap_tile(state, i, j, i, j-1)\n",
    "  if action == 'R':\n",
    "    state = swap_tile(state, i, j, i, j+1)\n",
    "  return state"
   ]
  },
  {
   "cell_type": "code",
   "execution_count": 11,
   "id": "7f536707",
   "metadata": {},
   "outputs": [],
   "source": [
    "goal_state = [\n",
    "         1,2,3,\n",
    "         4,5,6,\n",
    "         7,8,0\n",
    "         ]"
   ]
  },
  {
   "cell_type": "code",
   "execution_count": 12,
   "id": "d0de4c20",
   "metadata": {},
   "outputs": [],
   "source": [
    "initial_state = [\n",
    "                 7,2,0,\n",
    "                 1,3,5,\n",
    "                 6,4,8\n",
    "]"
   ]
  },
  {
   "cell_type": "code",
   "execution_count": 13,
   "id": "fc9eb21b",
   "metadata": {},
   "outputs": [],
   "source": [
    "number_of_misplaced_tiles = 0"
   ]
  },
  {
   "cell_type": "code",
   "execution_count": 14,
   "id": "b3258ffe",
   "metadata": {},
   "outputs": [],
   "source": [
    "# REMAINDER IS COLUMN \n",
    "# DIVIDER IS ROW."
   ]
  },
  {
   "cell_type": "code",
   "execution_count": 15,
   "id": "9405c5c8",
   "metadata": {},
   "outputs": [],
   "source": [
    "# ROW = INT (I/3)\n",
    "# COL = (I%3)"
   ]
  },
  {
   "cell_type": "code",
   "execution_count": 17,
   "id": "5cb3ea9f",
   "metadata": {},
   "outputs": [],
   "source": [
    "# Err (5) = |x-row| + |y-col|\n",
    "# Err(5) = |1-0| + |1-0|"
   ]
  },
  {
   "cell_type": "code",
   "execution_count": null,
   "id": "1ae5ed30",
   "metadata": {},
   "outputs": [],
   "source": []
  }
 ],
 "metadata": {
  "kernelspec": {
   "display_name": "Python 3",
   "language": "python",
   "name": "python3"
  },
  "language_info": {
   "codemirror_mode": {
    "name": "ipython",
    "version": 3
   },
   "file_extension": ".py",
   "mimetype": "text/x-python",
   "name": "python",
   "nbconvert_exporter": "python",
   "pygments_lexer": "ipython3",
   "version": "3.8.8"
  }
 },
 "nbformat": 4,
 "nbformat_minor": 5
}
