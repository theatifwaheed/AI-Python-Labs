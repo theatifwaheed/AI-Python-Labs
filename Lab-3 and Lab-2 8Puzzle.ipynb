{
  "nbformat": 4,
  "nbformat_minor": 0,
  "metadata": {
    "kernelspec": {
      "display_name": "Python 3",
      "language": "python",
      "name": "python3"
    },
    "language_info": {
      "codemirror_mode": {
        "name": "ipython",
        "version": 3
      },
      "file_extension": ".py",
      "mimetype": "text/x-python",
      "name": "python",
      "nbconvert_exporter": "python",
      "pygments_lexer": "ipython3",
      "version": "3.7.6"
    },
    "colab": {
      "name": "Lab Drive 3.ipynb",
      "provenance": []
    }
  },
  "cells": [
    {
      "cell_type": "markdown",
      "metadata": {
        "id": "y8-CVXoTjur3"
      },
      "source": [
        "# A.I. Lab - 3"
      ]
    },
    {
      "cell_type": "markdown",
      "metadata": {
        "id": "mavpum-CjusB"
      },
      "source": [
        "## Lab Agenda:"
      ]
    },
    {
      "cell_type": "markdown",
      "metadata": {
        "id": "iIRW2APajusC"
      },
      "source": [
        "0. Anaconda Installation and Getting Started with Jupyter Notebook\n",
        "1. Basic Python Code Understanding\n",
        "2. Problem Formulation for 8-Puzzle Problem\n",
        "3. Heuristic Function (Number of misplaced Tiles)\n",
        "4. Find Legitimate Moves\n",
        "5. Make a Move\n",
        "6. Class based Implementation of 8-Puzzle Problem\n",
        "7. Breadth First Search based 8-Puzzle Problem\n",
        "8. Depth First Search based 8-Puzzle Problem"
      ]
    },
    {
      "cell_type": "markdown",
      "metadata": {
        "id": "hJXq5QhMjusD"
      },
      "source": [
        "### 0. Anaconda Installation and Getting Started with Jupyter Notebook"
      ]
    },
    {
      "cell_type": "markdown",
      "metadata": {
        "id": "DsBsMw8ZjusD"
      },
      "source": [
        "Reference to this video to understand and proceed with anaconda installation\n",
        "\n",
        "https://www.youtube.com/watch?v=5mDYijMfSzs&t=508s"
      ]
    },
    {
      "cell_type": "markdown",
      "metadata": {
        "id": "sspErunKjusE"
      },
      "source": [
        "### Basic Python Coding"
      ]
    },
    {
      "cell_type": "markdown",
      "metadata": {
        "id": "_Y_mEgQUjusE"
      },
      "source": [
        "##### Making Neccessary Imports"
      ]
    },
    {
      "cell_type": "code",
      "metadata": {
        "id": "azMHT8ErjusF"
      },
      "source": [
        "import numpy as np\n",
        "import pandas as pd\n",
        "from time import time\n",
        "import matplotlib.pyplot as plt"
      ],
      "execution_count": null,
      "outputs": []
    },
    {
      "cell_type": "markdown",
      "metadata": {
        "id": "1uR2GeIHjusG"
      },
      "source": [
        "##### Declaring Variables"
      ]
    },
    {
      "cell_type": "code",
      "metadata": {
        "id": "EAVmVxqIjusG",
        "outputId": "a37eac5b-c36e-46ea-ce72-961950d03075"
      },
      "source": [
        "str1 = \"Hello World\"\n",
        "str1"
      ],
      "execution_count": null,
      "outputs": [
        {
          "output_type": "execute_result",
          "data": {
            "text/plain": [
              "'Hello World'"
            ]
          },
          "metadata": {
            "tags": []
          },
          "execution_count": 6
        }
      ]
    },
    {
      "cell_type": "code",
      "metadata": {
        "id": "ZvhOS9tDjusI",
        "outputId": "72eb0895-8fdc-4d61-bf99-60ba547f59e2"
      },
      "source": [
        "type(str1)"
      ],
      "execution_count": null,
      "outputs": [
        {
          "output_type": "execute_result",
          "data": {
            "text/plain": [
              "str"
            ]
          },
          "metadata": {
            "tags": []
          },
          "execution_count": 7
        }
      ]
    },
    {
      "cell_type": "code",
      "metadata": {
        "id": "qHwDMP93jusI",
        "outputId": "0095ace2-ad9c-4fbc-e73b-d052cf7c1e9c"
      },
      "source": [
        "len(str1)"
      ],
      "execution_count": null,
      "outputs": [
        {
          "output_type": "execute_result",
          "data": {
            "text/plain": [
              "11"
            ]
          },
          "metadata": {
            "tags": []
          },
          "execution_count": 8
        }
      ]
    },
    {
      "cell_type": "code",
      "metadata": {
        "id": "z0FVeWE4jusJ",
        "outputId": "de0c58f9-693e-4738-fa0d-b5399e2074df"
      },
      "source": [
        "blank_str = \"\"\n",
        "blank_str"
      ],
      "execution_count": null,
      "outputs": [
        {
          "output_type": "execute_result",
          "data": {
            "text/plain": [
              "''"
            ]
          },
          "metadata": {
            "tags": []
          },
          "execution_count": 9
        }
      ]
    },
    {
      "cell_type": "code",
      "metadata": {
        "id": "rWaTDIDXjusJ",
        "outputId": "785be77d-ebcb-449b-998e-4214da0c3af2"
      },
      "source": [
        "len(blank_str)"
      ],
      "execution_count": null,
      "outputs": [
        {
          "output_type": "execute_result",
          "data": {
            "text/plain": [
              "0"
            ]
          },
          "metadata": {
            "tags": []
          },
          "execution_count": 10
        }
      ]
    },
    {
      "cell_type": "code",
      "metadata": {
        "id": "_azUWohujusL",
        "outputId": "4787860d-91f1-400c-ff3e-00400f64ad40"
      },
      "source": [
        "var = 100000101001001 \n",
        "var"
      ],
      "execution_count": null,
      "outputs": [
        {
          "output_type": "execute_result",
          "data": {
            "text/plain": [
              "100000101001001"
            ]
          },
          "metadata": {
            "tags": []
          },
          "execution_count": 11
        }
      ]
    },
    {
      "cell_type": "code",
      "metadata": {
        "id": "8-wYaB0VjusN",
        "outputId": "777e1bde-a051-41a8-a33f-2da625f96a28"
      },
      "source": [
        "type(var)"
      ],
      "execution_count": null,
      "outputs": [
        {
          "output_type": "execute_result",
          "data": {
            "text/plain": [
              "int"
            ]
          },
          "metadata": {
            "tags": []
          },
          "execution_count": 12
        }
      ]
    },
    {
      "cell_type": "code",
      "metadata": {
        "id": "9_2vAGM7jusO",
        "outputId": "a27322f9-6fe5-44be-9385-56057f637350"
      },
      "source": [
        "str(var)"
      ],
      "execution_count": null,
      "outputs": [
        {
          "output_type": "execute_result",
          "data": {
            "text/plain": [
              "'100000101001001'"
            ]
          },
          "metadata": {
            "tags": []
          },
          "execution_count": 13
        }
      ]
    },
    {
      "cell_type": "code",
      "metadata": {
        "id": "3WgBTvPcjusP",
        "outputId": "7be5a1ba-7d4f-4fff-db3c-54501de0376b"
      },
      "source": [
        "len(str(var))"
      ],
      "execution_count": null,
      "outputs": [
        {
          "output_type": "execute_result",
          "data": {
            "text/plain": [
              "15"
            ]
          },
          "metadata": {
            "tags": []
          },
          "execution_count": 14
        }
      ]
    },
    {
      "cell_type": "markdown",
      "metadata": {
        "id": "Y0jX6YYIjusS"
      },
      "source": [
        "##### Lists"
      ]
    },
    {
      "cell_type": "code",
      "metadata": {
        "id": "JNU4GfasjusT",
        "outputId": "daedbf5f-6406-4f69-9e49-93da018211c6"
      },
      "source": [
        "list1 = [0,1,2]\n",
        "list1"
      ],
      "execution_count": null,
      "outputs": [
        {
          "output_type": "execute_result",
          "data": {
            "text/plain": [
              "[0, 1, 2]"
            ]
          },
          "metadata": {
            "tags": []
          },
          "execution_count": 15
        }
      ]
    },
    {
      "cell_type": "code",
      "metadata": {
        "id": "BAeBL8EhjusU",
        "outputId": "c99f0c14-f64b-487a-a991-1e046ac30093"
      },
      "source": [
        "type(list1)"
      ],
      "execution_count": null,
      "outputs": [
        {
          "output_type": "execute_result",
          "data": {
            "text/plain": [
              "list"
            ]
          },
          "metadata": {
            "tags": []
          },
          "execution_count": 16
        }
      ]
    },
    {
      "cell_type": "code",
      "metadata": {
        "id": "qnX9IbkTjusV",
        "outputId": "4a6c78a5-5544-4b55-d53b-3de5c6f35032"
      },
      "source": [
        "len(list1)"
      ],
      "execution_count": null,
      "outputs": [
        {
          "output_type": "execute_result",
          "data": {
            "text/plain": [
              "3"
            ]
          },
          "metadata": {
            "tags": []
          },
          "execution_count": 17
        }
      ]
    },
    {
      "cell_type": "code",
      "metadata": {
        "id": "WOsm7Xf4jusW"
      },
      "source": [
        "list1.reverse()"
      ],
      "execution_count": null,
      "outputs": []
    },
    {
      "cell_type": "markdown",
      "metadata": {
        "id": "MM-AKSgnjusX"
      },
      "source": [
        "##### Functions"
      ]
    },
    {
      "cell_type": "code",
      "metadata": {
        "id": "P_kDiB01jusX"
      },
      "source": [
        "def sum(var1, var2):\n",
        "    return var1+var2"
      ],
      "execution_count": null,
      "outputs": []
    },
    {
      "cell_type": "code",
      "metadata": {
        "id": "6Od0BMd9jusX",
        "outputId": "f00d378b-84af-4d7b-8133-79b61c46b572"
      },
      "source": [
        "sum(2,3)"
      ],
      "execution_count": null,
      "outputs": [
        {
          "output_type": "execute_result",
          "data": {
            "text/plain": [
              "5"
            ]
          },
          "metadata": {
            "tags": []
          },
          "execution_count": 20
        }
      ]
    },
    {
      "cell_type": "markdown",
      "metadata": {
        "id": "-cUlvURTjusY"
      },
      "source": [
        "### 8-Puzzle Problem Formulation"
      ]
    },
    {
      "cell_type": "code",
      "metadata": {
        "id": "VQmFs0OZjusZ",
        "colab": {
          "base_uri": "https://localhost:8080/"
        },
        "outputId": "135fb049-be01-4f2e-e885-b695360c825c"
      },
      "source": [
        "initial_state = [\n",
        "            [1,2,3],\n",
        "            [4,5,6],\n",
        "            [7,8,0]\n",
        "]\n",
        "initial_state"
      ],
      "execution_count": null,
      "outputs": [
        {
          "output_type": "execute_result",
          "data": {
            "text/plain": [
              "[[1, 2, 3], [4, 5, 6], [7, 8, 0]]"
            ]
          },
          "metadata": {},
          "execution_count": 1
        }
      ]
    },
    {
      "cell_type": "code",
      "metadata": {
        "id": "gG0MXAuejusa",
        "colab": {
          "base_uri": "https://localhost:8080/"
        },
        "outputId": "daf64ab4-ccf6-4dc2-ac06-a20146dc24a8"
      },
      "source": [
        "goal = [\n",
        "            [1,2,3],\n",
        "            [4,0,5],\n",
        "            [7,8,6]\n",
        "]\n",
        "goal"
      ],
      "execution_count": null,
      "outputs": [
        {
          "output_type": "execute_result",
          "data": {
            "text/plain": [
              "[[1, 2, 3], [4, 0, 5], [7, 8, 6]]"
            ]
          },
          "metadata": {},
          "execution_count": 2
        }
      ]
    },
    {
      "cell_type": "code",
      "metadata": {
        "id": "rEpvqMLejusa"
      },
      "source": [
        "initial_state = [1,2,3,4,5,6,7,8,0]     \n",
        "goal = [1,2,3,4,0,5,7,8,6]"
      ],
      "execution_count": null,
      "outputs": []
    },
    {
      "cell_type": "code",
      "metadata": {
        "id": "6VSFtZgtjusb"
      },
      "source": [
        "if (initial_state == goal):\n",
        "    print (\"Goal Found\")"
      ],
      "execution_count": null,
      "outputs": []
    },
    {
      "cell_type": "code",
      "metadata": {
        "id": "i8Hw2rgtjusc",
        "outputId": "c9acba11-d6fc-40d6-f26f-b020337ecbef"
      },
      "source": [
        "user_input = input()"
      ],
      "execution_count": null,
      "outputs": [
        {
          "output_type": "stream",
          "text": [
            "\n"
          ],
          "name": "stdout"
        }
      ]
    },
    {
      "cell_type": "code",
      "metadata": {
        "id": "3UmXFq1Ajusd",
        "outputId": "c0cf1727-1e38-40a6-f4b8-f4508c48d1cf"
      },
      "source": [
        "user_input"
      ],
      "execution_count": null,
      "outputs": [
        {
          "output_type": "execute_result",
          "data": {
            "text/plain": [
              "''"
            ]
          },
          "metadata": {
            "tags": []
          },
          "execution_count": 37
        }
      ]
    },
    {
      "cell_type": "code",
      "metadata": {
        "id": "UZPlMKT9jusf"
      },
      "source": [
        "output = ['U','R','R','U','L','D','D','L','R','U']"
      ],
      "execution_count": null,
      "outputs": []
    },
    {
      "cell_type": "markdown",
      "metadata": {
        "id": "6n2y14MIjusf"
      },
      "source": [
        "### Heuristic Function"
      ]
    },
    {
      "cell_type": "markdown",
      "metadata": {
        "id": "JVRPea5Ojusg"
      },
      "source": [
        "cost_function = Manhattan Distance"
      ]
    },
    {
      "cell_type": "code",
      "metadata": {
        "id": "hiwCtsOBjush"
      },
      "source": [
        "def generate_heuristic(self):\n",
        "        self.heuristic=0\n",
        "        for num in range(1,9):\n",
        "            distance=abs(self.state.index(num) - self.goal_state.index(num))\n",
        "            i=int(distance/3)\n",
        "            j=int(distance%3)\n",
        "            self.heuristic=self.heuristic+i+j"
      ],
      "execution_count": null,
      "outputs": []
    },
    {
      "cell_type": "markdown",
      "metadata": {
        "id": "zy8ruburjusi"
      },
      "source": [
        "### Find Legal moves"
      ]
    },
    {
      "cell_type": "code",
      "metadata": {
        "id": "nopjUyIojusj"
      },
      "source": [
        "def find_legal_actions(i,j):\n",
        "        legal_action = ['U', 'D', 'L', 'R']\n",
        "        if i == 0:  # up is disable\n",
        "            legal_action.remove('U')\n",
        "        elif i == 2:  # down is disable\n",
        "            legal_action.remove('D')\n",
        "        if j == 0:\n",
        "            legal_action.remove('L')\n",
        "        elif j == 2:\n",
        "            legal_action.remove('R')\n",
        "        return legal_action"
      ],
      "execution_count": null,
      "outputs": []
    },
    {
      "cell_type": "markdown",
      "metadata": {
        "id": "lBv2Mvivjusk"
      },
      "source": [
        "### Make Move"
      ]
    },
    {
      "cell_type": "code",
      "metadata": {
        "id": "GE0klqisjusk"
      },
      "source": [
        "def move(index, action):\n",
        "    if action == 'Right':\n",
        "        swap(i, i+1)\n",
        "    elif action == 'left':\n",
        "        swap(i, i-1)\n",
        "    elif (action == 'Up'):\n",
        "        swap(i, i-3)\n",
        "    elif (action == 'Down'):\n",
        "        swap(i, i+3)"
      ],
      "execution_count": null,
      "outputs": []
    },
    {
      "cell_type": "markdown",
      "metadata": {
        "id": "MjIrPHlZjusl"
      },
      "source": [
        "### Combining it all "
      ]
    },
    {
      "cell_type": "code",
      "metadata": {
        "id": "bHef_uGDjusm"
      },
      "source": [
        "class Puzzle:\n",
        "    goal_state = [1,2,3,\n",
        "                  8,0,4,\n",
        "                  7,6,5]\n",
        "    heuristic=None\n",
        "    evaluation_function=None\n",
        "    needs_hueristic=True\n",
        "    num_of_instances=0\n",
        "    def __init__(self,state,parent,action,path_cost,needs_hueristic=False):\n",
        "        self.parent=parent\n",
        "        self.state=state\n",
        "        self.action=action\n",
        "        if parent:\n",
        "            self.path_cost = parent.path_cost + path_cost\n",
        "        else:\n",
        "            self.path_cost = path_cost\n",
        "        if needs_hueristic:\n",
        "            self.needs_hueristic=True\n",
        "            self.generate_heuristic()\n",
        "            self.evaluation_function=self.heuristic+self.path_cost\n",
        "        Puzzle.num_of_instances+=1\n",
        "\n",
        "    def __str__(self):\n",
        "        return str(self.state[0:3])+'\\n'+str(self.state[3:6])+'\\n'+str(self.state[6:9])\n",
        "\n",
        "    def generate_heuristic(self):\n",
        "        self.heuristic=0\n",
        "        for num in range(1,9):\n",
        "            distance=abs(self.state.index(num) - self.goal_state.index(num))\n",
        "            i=int(distance/3)\n",
        "            j=int(distance%3)\n",
        "            self.heuristic=self.heuristic+i+j\n",
        "\n",
        "    def goal_test(self):\n",
        "        if self.state == self.goal_state:\n",
        "            return True\n",
        "        return False\n",
        "\n",
        "    @staticmethod\n",
        "    def find_legal_actions(i,j):\n",
        "        legal_action = ['U', 'D', 'L', 'R']\n",
        "        if i == 0:  # up is disable\n",
        "            legal_action.remove('U')\n",
        "        elif i == 2:  # down is disable\n",
        "            legal_action.remove('D')\n",
        "        if j == 0:\n",
        "            legal_action.remove('L')\n",
        "        elif j == 2:\n",
        "            legal_action.remove('R')\n",
        "        return legal_action\n",
        "\n",
        "    def generate_child(self):\n",
        "        children=[]\n",
        "        x = self.state.index(0)\n",
        "        i = int(x / 3)\n",
        "        j = int(x % 3)\n",
        "        legal_actions=self.find_legal_actions(i,j)\n",
        "\n",
        "        for action in legal_actions:\n",
        "            new_state = self.state.copy()\n",
        "            if action is 'U':\n",
        "                new_state[x], new_state[x-3] = new_state[x-3], new_state[x]\n",
        "            elif action is 'D':\n",
        "                new_state[x], new_state[x+3] = new_state[x+3], new_state[x]\n",
        "            elif action is 'L':\n",
        "                new_state[x], new_state[x-1] = new_state[x-1], new_state[x]\n",
        "            elif action is 'R':\n",
        "                new_state[x], new_state[x+1] = new_state[x+1], new_state[x]            \n",
        "            children.append(Puzzle(new_state,self,action,1,self.needs_hueristic))\n",
        "        return children\n",
        "\n",
        "    def find_solution(self):\n",
        "        solution = []\n",
        "        solution.append(self.action)\n",
        "        path = self\n",
        "        while path.parent != None:\n",
        "            path = path.parent\n",
        "            solution.append(path.action)\n",
        "        solution = solution[:-1]\n",
        "        solution.reverse()\n",
        "        return solution"
      ],
      "execution_count": null,
      "outputs": []
    },
    {
      "cell_type": "code",
      "metadata": {
        "id": "mD5E9L10jusr"
      },
      "source": [
        ""
      ],
      "execution_count": null,
      "outputs": []
    },
    {
      "cell_type": "markdown",
      "metadata": {
        "id": "v9BNXHz9jusv"
      },
      "source": [
        "### Using above Class in Breadth First Search"
      ]
    },
    {
      "cell_type": "code",
      "metadata": {
        "id": "m3Lgu6rujusw"
      },
      "source": [
        "from queue import Queue\n",
        "\n",
        "\n",
        "def breadth_first_search(initial_state):\n",
        "    start_node = Puzzle(initial_state, None, None, 0)\n",
        "    if start_node.goal_test():\n",
        "        return start_node.find_solution()\n",
        "    q = Queue()\n",
        "    q.put(start_node)\n",
        "    explored=[]\n",
        "    while not(q.empty()):\n",
        "        node=q.get()\n",
        "        explored.append(node.state)\n",
        "        children=node.generate_child()\n",
        "        for child in children:\n",
        "            if child.state not in explored:\n",
        "                if child.goal_test():\n",
        "                    return child.find_solution()\n",
        "                q.put(child)\n",
        "    return"
      ],
      "execution_count": null,
      "outputs": []
    },
    {
      "cell_type": "markdown",
      "metadata": {
        "id": "J0XKBlhYjusy"
      },
      "source": [
        "### Main Function"
      ]
    },
    {
      "cell_type": "code",
      "metadata": {
        "id": "Wri5sapljusy",
        "colab": {
          "base_uri": "https://localhost:8080/"
        },
        "outputId": "1ae4d7eb-d8a3-4985-91d8-058c5fc15043"
      },
      "source": [
        "from time import time\n",
        "\n",
        "state=[[1, 3, 4, \n",
        "        8, 6, 2, \n",
        "        7, 0, 5],\n",
        "\n",
        "       [2, 8, 1,\n",
        "        0, 4, 3,\n",
        "        7, 6, 5],\n",
        "\n",
        "       [2, 8, 1,\n",
        "        4, 6, 3,\n",
        "        0, 7, 5]\n",
        "      ]\n",
        "\n",
        "for i in range(0,3):\n",
        "    Puzzle.num_of_instances=0\n",
        "    t0=time()\n",
        "    bfs=breadth_first_search(state[i])\n",
        "    t1=time()-t0\n",
        "    print('BFS:', bfs)\n",
        "    print('space:',Puzzle.num_of_instances)\n",
        "    print('time:',t1)"
      ],
      "execution_count": null,
      "outputs": [
        {
          "output_type": "stream",
          "name": "stdout",
          "text": [
            "BFS: ['U', 'R', 'U', 'L', 'D']\n",
            "space: 66\n",
            "time: 0.0012748241424560547\n",
            "BFS: ['U', 'R', 'R', 'D', 'L', 'L', 'U', 'R', 'D']\n",
            "space: 591\n",
            "time: 0.016732454299926758\n",
            "BFS: ['R', 'U', 'L', 'U', 'R', 'R', 'D', 'L', 'L', 'U', 'R', 'D']\n",
            "space: 2956\n",
            "time: 0.09660792350769043\n"
          ]
        }
      ]
    },
    {
      "cell_type": "code",
      "metadata": {
        "id": "pin6_ROxjusz"
      },
      "source": [
        "import pandas as pd\n",
        "import numpy as np"
      ],
      "execution_count": null,
      "outputs": []
    },
    {
      "cell_type": "code",
      "metadata": {
        "id": "7cMvxR25h6as"
      },
      "source": [
        "df = pd.read_csv('titanic_train.csv')"
      ],
      "execution_count": null,
      "outputs": []
    },
    {
      "cell_type": "code",
      "metadata": {
        "colab": {
          "base_uri": "https://localhost:8080/"
        },
        "id": "BWjiHtuYh--r",
        "outputId": "965f7c20-5ac5-48bc-8324-7e5de244fa7c"
      },
      "source": [
        "df['age'].dropna().mean()"
      ],
      "execution_count": null,
      "outputs": [
        {
          "output_type": "execute_result",
          "data": {
            "text/plain": [
              "29.519847189349115"
            ]
          },
          "metadata": {},
          "execution_count": 16
        }
      ]
    },
    {
      "cell_type": "code",
      "metadata": {
        "id": "jG2xSh_-iP1a"
      },
      "source": [
        ""
      ],
      "execution_count": null,
      "outputs": []
    }
  ]
}