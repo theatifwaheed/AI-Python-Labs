{
 "cells": [
  {
   "cell_type": "code",
   "execution_count": 1,
   "id": "c4c4bf11",
   "metadata": {},
   "outputs": [],
   "source": [
    "import numpy as np\n",
    "import pandas as pd\n",
    "import matplotlib.pyplot as plt"
   ]
  },
  {
   "cell_type": "code",
   "execution_count": null,
   "id": "4cceb3b4",
   "metadata": {},
   "outputs": [],
   "source": [
    "# Task1 Task2 with Functions"
   ]
  },
  {
   "cell_type": "code",
   "execution_count": 3,
   "id": "df9a8064",
   "metadata": {},
   "outputs": [],
   "source": [
    "st = \"This is String\"\n",
    "def reverse_str (str1):\n",
    "    str1 = str1.split()\n",
    "    str1 = str1[::-1]\n",
    "    str1 = \" \".join(str1)\n",
    "    return str1"
   ]
  },
  {
   "cell_type": "code",
   "execution_count": 4,
   "id": "4b4f00bc",
   "metadata": {},
   "outputs": [
    {
     "data": {
      "text/plain": [
       "'String is This'"
      ]
     },
     "execution_count": 4,
     "metadata": {},
     "output_type": "execute_result"
    }
   ],
   "source": [
    "reverse_str(st)"
   ]
  },
  {
   "cell_type": "code",
   "execution_count": 15,
   "id": "4596a7d4",
   "metadata": {},
   "outputs": [],
   "source": [
    "def rev_mid (st):\n",
    "    st = st.split()\n",
    "    h = int(len(st)/2)\n",
    "    l = len(st)\n",
    "    p1 = st [0:h-1]\n",
    "    p2 = st [h-1:l]\n",
    "    p1 = p1[::-1]\n",
    "    p2 = p2[::-1]\n",
    "    c = p1 + p2\n",
    "    st = c\n",
    "    st = \" \".join(st)\n",
    "    return st\n",
    "st = \"This is a String as it is now\""
   ]
  },
  {
   "cell_type": "code",
   "execution_count": 16,
   "id": "c5676865",
   "metadata": {},
   "outputs": [
    {
     "data": {
      "text/plain": [
       "'a is This now is it as String'"
      ]
     },
     "execution_count": 16,
     "metadata": {},
     "output_type": "execute_result"
    }
   ],
   "source": [
    "rev_mid (st)"
   ]
  },
  {
   "cell_type": "code",
   "execution_count": null,
   "id": "9b8509b5",
   "metadata": {},
   "outputs": [],
   "source": []
  },
  {
   "cell_type": "code",
   "execution_count": null,
   "id": "469ba4c2",
   "metadata": {},
   "outputs": [],
   "source": []
  },
  {
   "cell_type": "code",
   "execution_count": null,
   "id": "f985b9a0",
   "metadata": {},
   "outputs": [],
   "source": []
  },
  {
   "cell_type": "code",
   "execution_count": 25,
   "id": "161b6527",
   "metadata": {},
   "outputs": [],
   "source": [
    "# Numpy Array"
   ]
  },
  {
   "cell_type": "code",
   "execution_count": 18,
   "id": "c6bcf8e6",
   "metadata": {},
   "outputs": [],
   "source": [
    "npL = [1,2,3,4,5,6]"
   ]
  },
  {
   "cell_type": "code",
   "execution_count": 26,
   "id": "9ec7cc16",
   "metadata": {},
   "outputs": [],
   "source": [
    "npL = np.array(npL)"
   ]
  },
  {
   "cell_type": "code",
   "execution_count": 27,
   "id": "b9105282",
   "metadata": {},
   "outputs": [
    {
     "data": {
      "text/plain": [
       "numpy.ndarray"
      ]
     },
     "execution_count": 27,
     "metadata": {},
     "output_type": "execute_result"
    }
   ],
   "source": [
    "type(npL)"
   ]
  },
  {
   "cell_type": "code",
   "execution_count": 28,
   "id": "ae2d9a8e",
   "metadata": {},
   "outputs": [],
   "source": [
    "npL = np.sort(npL)"
   ]
  },
  {
   "cell_type": "code",
   "execution_count": 29,
   "id": "7edf2cc2",
   "metadata": {},
   "outputs": [
    {
     "data": {
      "text/plain": [
       "array([1, 2, 3, 4, 5, 6])"
      ]
     },
     "execution_count": 29,
     "metadata": {},
     "output_type": "execute_result"
    }
   ],
   "source": [
    "npL"
   ]
  },
  {
   "cell_type": "code",
   "execution_count": 30,
   "id": "2a917af7",
   "metadata": {},
   "outputs": [
    {
     "data": {
      "text/plain": [
       "array([4, 5, 6])"
      ]
     },
     "execution_count": 30,
     "metadata": {},
     "output_type": "execute_result"
    }
   ],
   "source": [
    "npL [npL > 3]"
   ]
  },
  {
   "cell_type": "code",
   "execution_count": 31,
   "id": "ee556e00",
   "metadata": {},
   "outputs": [
    {
     "data": {
      "text/plain": [
       "(6,)"
      ]
     },
     "execution_count": 31,
     "metadata": {},
     "output_type": "execute_result"
    }
   ],
   "source": [
    "npL.shape"
   ]
  },
  {
   "cell_type": "code",
   "execution_count": 42,
   "id": "09571b46",
   "metadata": {},
   "outputs": [],
   "source": [
    "l1 = np.array([\n",
    "    [1,2,3],\n",
    "    [4,5,6],\n",
    "    [7,8,9]\n",
    "])"
   ]
  },
  {
   "cell_type": "code",
   "execution_count": 43,
   "id": "6451a32c",
   "metadata": {},
   "outputs": [
    {
     "data": {
      "text/plain": [
       "(3, 3)"
      ]
     },
     "execution_count": 43,
     "metadata": {},
     "output_type": "execute_result"
    }
   ],
   "source": [
    "l1.shape"
   ]
  },
  {
   "cell_type": "code",
   "execution_count": 44,
   "id": "954fd9be",
   "metadata": {},
   "outputs": [
    {
     "data": {
      "text/plain": [
       "array([4, 5, 6, 7, 8, 9])"
      ]
     },
     "execution_count": 44,
     "metadata": {},
     "output_type": "execute_result"
    }
   ],
   "source": [
    "l1[l1>3]"
   ]
  },
  {
   "cell_type": "code",
   "execution_count": 48,
   "id": "00b862ab",
   "metadata": {},
   "outputs": [
    {
     "data": {
      "text/plain": [
       "array([[1, 2, 3, 4, 5, 6, 7, 8, 9]])"
      ]
     },
     "execution_count": 48,
     "metadata": {},
     "output_type": "execute_result"
    }
   ],
   "source": [
    "l1.reshape(1,9)"
   ]
  },
  {
   "cell_type": "code",
   "execution_count": 49,
   "id": "f4496387",
   "metadata": {},
   "outputs": [],
   "source": [
    "l2 = np.array([\n",
    "    [[1,2],[3,4]],\n",
    "    [[5,6],[7,8]],\n",
    "    [[9,10],[10,11]]\n",
    "])"
   ]
  },
  {
   "cell_type": "code",
   "execution_count": 50,
   "id": "07a13849",
   "metadata": {},
   "outputs": [
    {
     "data": {
      "text/plain": [
       "(3, 2, 2)"
      ]
     },
     "execution_count": 50,
     "metadata": {},
     "output_type": "execute_result"
    }
   ],
   "source": [
    "l2.shape"
   ]
  },
  {
   "cell_type": "code",
   "execution_count": null,
   "id": "b1c0f212",
   "metadata": {},
   "outputs": [],
   "source": []
  }
 ],
 "metadata": {
  "kernelspec": {
   "display_name": "Python 3",
   "language": "python",
   "name": "python3"
  },
  "language_info": {
   "codemirror_mode": {
    "name": "ipython",
    "version": 3
   },
   "file_extension": ".py",
   "mimetype": "text/x-python",
   "name": "python",
   "nbconvert_exporter": "python",
   "pygments_lexer": "ipython3",
   "version": "3.8.8"
  }
 },
 "nbformat": 4,
 "nbformat_minor": 5
}
