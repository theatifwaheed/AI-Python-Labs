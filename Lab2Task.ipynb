{
 "cells": [
  {
   "cell_type": "code",
   "execution_count": 1,
   "id": "aa93a4aa",
   "metadata": {},
   "outputs": [],
   "source": [
    "import numpy as np\n",
    "import pandas as pd\n",
    "import matplotlib.pyplot as plt"
   ]
  },
  {
   "cell_type": "code",
   "execution_count": 13,
   "id": "45738feb",
   "metadata": {},
   "outputs": [],
   "source": [
    "# Task 1\n",
    "st = \"This is Weird String\""
   ]
  },
  {
   "cell_type": "code",
   "execution_count": 3,
   "id": "04dba72f",
   "metadata": {},
   "outputs": [
    {
     "data": {
      "text/plain": [
       "'This is Weird String'"
      ]
     },
     "execution_count": 3,
     "metadata": {},
     "output_type": "execute_result"
    }
   ],
   "source": [
    "st"
   ]
  },
  {
   "cell_type": "code",
   "execution_count": 4,
   "id": "f7a06c67",
   "metadata": {},
   "outputs": [],
   "source": [
    "_list = st.split()"
   ]
  },
  {
   "cell_type": "code",
   "execution_count": 5,
   "id": "d2684ec1",
   "metadata": {},
   "outputs": [
    {
     "data": {
      "text/plain": [
       "['This', 'is', 'Weird', 'String']"
      ]
     },
     "execution_count": 5,
     "metadata": {},
     "output_type": "execute_result"
    }
   ],
   "source": [
    "_list"
   ]
  },
  {
   "cell_type": "code",
   "execution_count": 10,
   "id": "8f742671",
   "metadata": {},
   "outputs": [],
   "source": [
    "st = _list[::-1]"
   ]
  },
  {
   "cell_type": "code",
   "execution_count": 11,
   "id": "4239872f",
   "metadata": {},
   "outputs": [
    {
     "data": {
      "text/plain": [
       "['String', 'Weird', 'is', 'This']"
      ]
     },
     "execution_count": 11,
     "metadata": {},
     "output_type": "execute_result"
    }
   ],
   "source": [
    "st"
   ]
  },
  {
   "cell_type": "code",
   "execution_count": 37,
   "id": "90f10da9",
   "metadata": {},
   "outputs": [
    {
     "data": {
      "text/plain": [
       "'This is Weird String'"
      ]
     },
     "execution_count": 37,
     "metadata": {},
     "output_type": "execute_result"
    }
   ],
   "source": [
    "\"\".join(st)"
   ]
  },
  {
   "cell_type": "code",
   "execution_count": null,
   "id": "098bf711",
   "metadata": {},
   "outputs": [],
   "source": []
  },
  {
   "cell_type": "code",
   "execution_count": null,
   "id": "391063dd",
   "metadata": {},
   "outputs": [],
   "source": []
  },
  {
   "cell_type": "code",
   "execution_count": null,
   "id": "f144fc12",
   "metadata": {},
   "outputs": [],
   "source": []
  },
  {
   "cell_type": "code",
   "execution_count": 12,
   "id": "9e83a070",
   "metadata": {},
   "outputs": [],
   "source": [
    "# Task 2\n"
   ]
  },
  {
   "cell_type": "code",
   "execution_count": 14,
   "id": "e6eded79",
   "metadata": {},
   "outputs": [],
   "source": [
    "snt = \"This is a string as it is now\""
   ]
  },
  {
   "cell_type": "code",
   "execution_count": 15,
   "id": "7338963d",
   "metadata": {},
   "outputs": [
    {
     "data": {
      "text/plain": [
       "'This is a string as it is now'"
      ]
     },
     "execution_count": 15,
     "metadata": {},
     "output_type": "execute_result"
    }
   ],
   "source": [
    "snt"
   ]
  },
  {
   "cell_type": "code",
   "execution_count": 16,
   "id": "9e340f50",
   "metadata": {},
   "outputs": [],
   "source": [
    "lst = snt.split()"
   ]
  },
  {
   "cell_type": "code",
   "execution_count": 17,
   "id": "b2b408da",
   "metadata": {},
   "outputs": [
    {
     "data": {
      "text/plain": [
       "['This', 'is', 'a', 'string', 'as', 'it', 'is', 'now']"
      ]
     },
     "execution_count": 17,
     "metadata": {},
     "output_type": "execute_result"
    }
   ],
   "source": [
    "lst"
   ]
  },
  {
   "cell_type": "code",
   "execution_count": 20,
   "id": "84094354",
   "metadata": {},
   "outputs": [],
   "source": [
    "lst1 = lst[0]+\" \"+lst[1]+\" \"+lst[2]+\" \"+lst[3]"
   ]
  },
  {
   "cell_type": "code",
   "execution_count": 22,
   "id": "9aa9f535",
   "metadata": {},
   "outputs": [],
   "source": [
    "lst1 = lst1.split()"
   ]
  },
  {
   "cell_type": "code",
   "execution_count": 24,
   "id": "29dd3e31",
   "metadata": {},
   "outputs": [],
   "source": [
    "lst1 = lst1[::-1]"
   ]
  },
  {
   "cell_type": "code",
   "execution_count": 25,
   "id": "b2cd0eda",
   "metadata": {},
   "outputs": [
    {
     "data": {
      "text/plain": [
       "['string', 'a', 'is', 'This']"
      ]
     },
     "execution_count": 25,
     "metadata": {},
     "output_type": "execute_result"
    }
   ],
   "source": [
    "lst1"
   ]
  },
  {
   "cell_type": "code",
   "execution_count": 29,
   "id": "b19a94e1",
   "metadata": {},
   "outputs": [],
   "source": [
    "lst2 = lst[4]+ \" \"+lst[5]+\" \"+lst[6]+\" \"+lst[7]"
   ]
  },
  {
   "cell_type": "code",
   "execution_count": 30,
   "id": "b80ed614",
   "metadata": {},
   "outputs": [],
   "source": [
    "lst2 = lst2.split()\n",
    "lst2 = lst2[::-1]"
   ]
  },
  {
   "cell_type": "code",
   "execution_count": 31,
   "id": "dd8b80c6",
   "metadata": {},
   "outputs": [
    {
     "data": {
      "text/plain": [
       "['now', 'is', 'it', 'as']"
      ]
     },
     "execution_count": 31,
     "metadata": {},
     "output_type": "execute_result"
    }
   ],
   "source": [
    "lst2"
   ]
  },
  {
   "cell_type": "code",
   "execution_count": 33,
   "id": "327dfdb8",
   "metadata": {},
   "outputs": [],
   "source": [
    "c = lst1 + lst2\n"
   ]
  },
  {
   "cell_type": "code",
   "execution_count": 34,
   "id": "4264a774",
   "metadata": {},
   "outputs": [
    {
     "data": {
      "text/plain": [
       "['string', 'a', 'is', 'This', 'now', 'is', 'it', 'as']"
      ]
     },
     "execution_count": 34,
     "metadata": {},
     "output_type": "execute_result"
    }
   ],
   "source": [
    "c\n"
   ]
  },
  {
   "cell_type": "code",
   "execution_count": 35,
   "id": "f78b1b14",
   "metadata": {},
   "outputs": [],
   "source": [
    "snt = c"
   ]
  },
  {
   "cell_type": "code",
   "execution_count": 39,
   "id": "8204d7fb",
   "metadata": {},
   "outputs": [
    {
     "data": {
      "text/plain": [
       "'string a is This now is it as'"
      ]
     },
     "execution_count": 39,
     "metadata": {},
     "output_type": "execute_result"
    }
   ],
   "source": [
    "\" \".join(snt)"
   ]
  },
  {
   "cell_type": "code",
   "execution_count": null,
   "id": "401786ab",
   "metadata": {},
   "outputs": [],
   "source": []
  }
 ],
 "metadata": {
  "kernelspec": {
   "display_name": "Python 3",
   "language": "python",
   "name": "python3"
  },
  "language_info": {
   "codemirror_mode": {
    "name": "ipython",
    "version": 3
   },
   "file_extension": ".py",
   "mimetype": "text/x-python",
   "name": "python",
   "nbconvert_exporter": "python",
   "pygments_lexer": "ipython3",
   "version": "3.8.8"
  }
 },
 "nbformat": 4,
 "nbformat_minor": 5
}
