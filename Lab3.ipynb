{
 "cells": [
  {
   "cell_type": "code",
   "execution_count": 1,
   "id": "95a9ce55",
   "metadata": {},
   "outputs": [],
   "source": [
    "import pandas as pd\n",
    "import numpy as np"
   ]
  },
  {
   "cell_type": "code",
   "execution_count": 2,
   "id": "3a63fed5",
   "metadata": {},
   "outputs": [],
   "source": [
    "goal_state = [\n",
    "         [1,2,3],\n",
    "         [4,5,6],\n",
    "         [7,8,0]\n",
    "]"
   ]
  },
  {
   "cell_type": "code",
   "execution_count": 3,
   "id": "570ca3af",
   "metadata": {},
   "outputs": [],
   "source": [
    "initial_state = [\n",
    "                 [7,2,0],\n",
    "                 [1,3,5],\n",
    "                 [6,4,8]\n",
    "]\n"
   ]
  },
  {
   "cell_type": "code",
   "execution_count": 4,
   "id": "f885135a",
   "metadata": {},
   "outputs": [],
   "source": [
    "if initial_state == goal_state:\n",
    "  print (\"Goal Found\")"
   ]
  },
  {
   "cell_type": "code",
   "execution_count": 5,
   "id": "a82c6379",
   "metadata": {},
   "outputs": [],
   "source": [
    "def find_legitimate_moves(i,j):\n",
    "  leg_moves = ['U', 'D', 'L', 'R']\n",
    "  if i == 0:\n",
    "    leg_moves.remove('U')\n",
    "  if i == 2:\n",
    "    leg_moves.remove('D')\n",
    "  if j == 0:\n",
    "    leg_moves.remove('L')\n",
    "  if j == 2:\n",
    "    leg_moves.remove('R')\n",
    "  return leg_moves"
   ]
  },
  {
   "cell_type": "code",
   "execution_count": 9,
   "id": "3b1b5113",
   "metadata": {},
   "outputs": [],
   "source": [
    "def swap_tile(state, i, j, x, y):\n",
    "    temp = state[i][j]\n",
    "    state[i][j] = state[x][y]\n",
    "    state[x][y] = temp\n",
    "    return state\n"
   ]
  },
  {
   "cell_type": "code",
   "execution_count": 10,
   "id": "d32ba1de",
   "metadata": {},
   "outputs": [],
   "source": [
    "def make_move(action, i, j, state):\n",
    "  if action == 'U':\n",
    "    state = swap_tile(state, i, j, i-1, j)\n",
    "  if action == 'D':\n",
    "    state = swap_tile(state, i, j, i+1, j)\n",
    "  if action == 'L':\n",
    "    state = swap_tile(state, i, j, i, j-1)\n",
    "  if action == 'R':\n",
    "    state = swap_tile(state, i, j, i, j+1)\n",
    "  return state"
   ]
  },
  {
   "cell_type": "code",
   "execution_count": 11,
   "id": "89edc8b5",
   "metadata": {},
   "outputs": [],
   "source": [
    "goal_state = [\n",
    "         1,2,3,\n",
    "         4,5,6,\n",
    "         7,8,0\n",
    "         ]"
   ]
  },
  {
   "cell_type": "code",
   "execution_count": 12,
   "id": "adf3a9fe",
   "metadata": {},
   "outputs": [],
   "source": [
    "initial_state = [\n",
    "                 7,2,0,\n",
    "                 1,3,5,\n",
    "                 6,4,8\n",
    "]"
   ]
  },
  {
   "cell_type": "code",
   "execution_count": 13,
   "id": "91055666",
   "metadata": {},
   "outputs": [],
   "source": [
    "number_of_misplaced_tiles = 0"
   ]
  },
  {
   "cell_type": "code",
   "execution_count": 14,
   "id": "e30bfdf1",
   "metadata": {},
   "outputs": [],
   "source": [
    "# REMAINDER IS COLUMN \n",
    "# DIVIDER IS ROW."
   ]
  },
  {
   "cell_type": "code",
   "execution_count": 15,
   "id": "45840cbf",
   "metadata": {},
   "outputs": [],
   "source": [
    "# ROW = INT (I/3)\n",
    "# COL = (I%3)"
   ]
  },
  {
   "cell_type": "code",
   "execution_count": null,
   "id": "7621c2b3",
   "metadata": {},
   "outputs": [],
   "source": [
    "# Err (5) = || + ||"
   ]
  }
 ],
 "metadata": {
  "kernelspec": {
   "display_name": "Python 3",
   "language": "python",
   "name": "python3"
  },
  "language_info": {
   "codemirror_mode": {
    "name": "ipython",
    "version": 3
   },
   "file_extension": ".py",
   "mimetype": "text/x-python",
   "name": "python",
   "nbconvert_exporter": "python",
   "pygments_lexer": "ipython3",
   "version": "3.8.8"
  }
 },
 "nbformat": 4,
 "nbformat_minor": 5
}
